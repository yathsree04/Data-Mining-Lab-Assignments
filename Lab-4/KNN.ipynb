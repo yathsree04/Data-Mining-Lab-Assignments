{
 "cells": [
  {
   "cell_type": "markdown",
   "metadata": {},
   "source": [
    "# K-Nearest Neighbour\n",
    "\n",
    "\n",
    "K nearest neighbors is a simple algorithm that stores all available cases and classifies new cases based on a similarity measure (e.g., distance functions). A new record is classified by a majority vote of its neighbors, with the case being assigned to the class most common amongst its K nearest neighbors measured by a distance function. If K = 1, then the case is simply assigned to the class of its nearest neighbor. \n",
    "\n",
    "Suppose you want to find out the class of the blue star (BS) in the image below. BS can either be RC or GS. The “K” is KNN algorithm is the nearest neighbor we wish to take the vote from. Let’s say K = 3. Hence, we will now make a circle with BS as the center just as big as to enclose only three datapoints on the plane. The three closest points to BS is all RC. Hence, with a good confidence level, we can say that the BS should belong to the class RC. Here, the choice became very obvious as all three votes from the closest neighbor went to RC. The choice of the parameter K is very crucial in this algorithm.\n",
    "\n",
    "<img src=\"img1.png\">\n",
    "\n",
    "The distance functions used for Numeric fields are given below:\n",
    "<img src=\"img2.png\">"
   ]
  },
  {
   "cell_type": "markdown",
   "metadata": {},
   "source": [
    "### Libraries useful in K-NN are listed below"
   ]
  },
  {
   "cell_type": "raw",
   "metadata": {},
   "source": [
    "To load dataset:    import pandas as pd\n",
    "K-NN Classifier:    from sklearn.neighbors import KNeighborsClassifier\n",
    "Train & Test Split: from sklearn.model_selection import train_test_split\n",
    "\n",
    "For Prediction and Evaluation\n",
    "\n",
    "from sklearn.metrics import classification_report,confusion_matrix\n",
    "from sklearn.metrics import accuracy_score\n"
   ]
  },
  {
   "cell_type": "markdown",
   "metadata": {},
   "source": [
    "### Get The Data. Load data \"spambase_data.csv\""
   ]
  },
  {
   "cell_type": "code",
   "execution_count": 112,
   "metadata": {},
   "outputs": [
    {
     "data": {
      "text/html": [
       "<div>\n",
       "<style scoped>\n",
       "    .dataframe tbody tr th:only-of-type {\n",
       "        vertical-align: middle;\n",
       "    }\n",
       "\n",
       "    .dataframe tbody tr th {\n",
       "        vertical-align: top;\n",
       "    }\n",
       "\n",
       "    .dataframe thead th {\n",
       "        text-align: right;\n",
       "    }\n",
       "</style>\n",
       "<table border=\"1\" class=\"dataframe\">\n",
       "  <thead>\n",
       "    <tr style=\"text-align: right;\">\n",
       "      <th></th>\n",
       "      <th>0</th>\n",
       "      <th>1</th>\n",
       "      <th>2</th>\n",
       "      <th>3</th>\n",
       "      <th>4</th>\n",
       "      <th>5</th>\n",
       "      <th>6</th>\n",
       "      <th>7</th>\n",
       "      <th>8</th>\n",
       "      <th>9</th>\n",
       "      <th>...</th>\n",
       "      <th>48</th>\n",
       "      <th>49</th>\n",
       "      <th>50</th>\n",
       "      <th>51</th>\n",
       "      <th>52</th>\n",
       "      <th>53</th>\n",
       "      <th>54</th>\n",
       "      <th>55</th>\n",
       "      <th>56</th>\n",
       "      <th>57</th>\n",
       "    </tr>\n",
       "  </thead>\n",
       "  <tbody>\n",
       "    <tr>\n",
       "      <th>0</th>\n",
       "      <td>0.00</td>\n",
       "      <td>0.64</td>\n",
       "      <td>0.64</td>\n",
       "      <td>0.0</td>\n",
       "      <td>0.32</td>\n",
       "      <td>0.00</td>\n",
       "      <td>0.00</td>\n",
       "      <td>0.00</td>\n",
       "      <td>0.00</td>\n",
       "      <td>0.00</td>\n",
       "      <td>...</td>\n",
       "      <td>0.00</td>\n",
       "      <td>0.000</td>\n",
       "      <td>0.0</td>\n",
       "      <td>0.778</td>\n",
       "      <td>0.000</td>\n",
       "      <td>0.000</td>\n",
       "      <td>3.756</td>\n",
       "      <td>61</td>\n",
       "      <td>278</td>\n",
       "      <td>1</td>\n",
       "    </tr>\n",
       "    <tr>\n",
       "      <th>1</th>\n",
       "      <td>0.21</td>\n",
       "      <td>0.28</td>\n",
       "      <td>0.50</td>\n",
       "      <td>0.0</td>\n",
       "      <td>0.14</td>\n",
       "      <td>0.28</td>\n",
       "      <td>0.21</td>\n",
       "      <td>0.07</td>\n",
       "      <td>0.00</td>\n",
       "      <td>0.94</td>\n",
       "      <td>...</td>\n",
       "      <td>0.00</td>\n",
       "      <td>0.132</td>\n",
       "      <td>0.0</td>\n",
       "      <td>0.372</td>\n",
       "      <td>0.180</td>\n",
       "      <td>0.048</td>\n",
       "      <td>5.114</td>\n",
       "      <td>101</td>\n",
       "      <td>1028</td>\n",
       "      <td>1</td>\n",
       "    </tr>\n",
       "    <tr>\n",
       "      <th>2</th>\n",
       "      <td>0.06</td>\n",
       "      <td>0.00</td>\n",
       "      <td>0.71</td>\n",
       "      <td>0.0</td>\n",
       "      <td>1.23</td>\n",
       "      <td>0.19</td>\n",
       "      <td>0.19</td>\n",
       "      <td>0.12</td>\n",
       "      <td>0.64</td>\n",
       "      <td>0.25</td>\n",
       "      <td>...</td>\n",
       "      <td>0.01</td>\n",
       "      <td>0.143</td>\n",
       "      <td>0.0</td>\n",
       "      <td>0.276</td>\n",
       "      <td>0.184</td>\n",
       "      <td>0.010</td>\n",
       "      <td>9.821</td>\n",
       "      <td>485</td>\n",
       "      <td>2259</td>\n",
       "      <td>1</td>\n",
       "    </tr>\n",
       "    <tr>\n",
       "      <th>3</th>\n",
       "      <td>0.00</td>\n",
       "      <td>0.00</td>\n",
       "      <td>0.00</td>\n",
       "      <td>0.0</td>\n",
       "      <td>0.63</td>\n",
       "      <td>0.00</td>\n",
       "      <td>0.31</td>\n",
       "      <td>0.63</td>\n",
       "      <td>0.31</td>\n",
       "      <td>0.63</td>\n",
       "      <td>...</td>\n",
       "      <td>0.00</td>\n",
       "      <td>0.137</td>\n",
       "      <td>0.0</td>\n",
       "      <td>0.137</td>\n",
       "      <td>0.000</td>\n",
       "      <td>0.000</td>\n",
       "      <td>3.537</td>\n",
       "      <td>40</td>\n",
       "      <td>191</td>\n",
       "      <td>1</td>\n",
       "    </tr>\n",
       "    <tr>\n",
       "      <th>4</th>\n",
       "      <td>0.00</td>\n",
       "      <td>0.00</td>\n",
       "      <td>0.00</td>\n",
       "      <td>0.0</td>\n",
       "      <td>0.63</td>\n",
       "      <td>0.00</td>\n",
       "      <td>0.31</td>\n",
       "      <td>0.63</td>\n",
       "      <td>0.31</td>\n",
       "      <td>0.63</td>\n",
       "      <td>...</td>\n",
       "      <td>0.00</td>\n",
       "      <td>0.135</td>\n",
       "      <td>0.0</td>\n",
       "      <td>0.135</td>\n",
       "      <td>0.000</td>\n",
       "      <td>0.000</td>\n",
       "      <td>3.537</td>\n",
       "      <td>40</td>\n",
       "      <td>191</td>\n",
       "      <td>1</td>\n",
       "    </tr>\n",
       "  </tbody>\n",
       "</table>\n",
       "<p>5 rows × 58 columns</p>\n",
       "</div>"
      ],
      "text/plain": [
       "     0     1     2    3     4     5     6     7     8     9   ...    48  \\\n",
       "0  0.00  0.64  0.64  0.0  0.32  0.00  0.00  0.00  0.00  0.00  ...  0.00   \n",
       "1  0.21  0.28  0.50  0.0  0.14  0.28  0.21  0.07  0.00  0.94  ...  0.00   \n",
       "2  0.06  0.00  0.71  0.0  1.23  0.19  0.19  0.12  0.64  0.25  ...  0.01   \n",
       "3  0.00  0.00  0.00  0.0  0.63  0.00  0.31  0.63  0.31  0.63  ...  0.00   \n",
       "4  0.00  0.00  0.00  0.0  0.63  0.00  0.31  0.63  0.31  0.63  ...  0.00   \n",
       "\n",
       "      49   50     51     52     53     54   55    56  57  \n",
       "0  0.000  0.0  0.778  0.000  0.000  3.756   61   278   1  \n",
       "1  0.132  0.0  0.372  0.180  0.048  5.114  101  1028   1  \n",
       "2  0.143  0.0  0.276  0.184  0.010  9.821  485  2259   1  \n",
       "3  0.137  0.0  0.137  0.000  0.000  3.537   40   191   1  \n",
       "4  0.135  0.0  0.135  0.000  0.000  3.537   40   191   1  \n",
       "\n",
       "[5 rows x 58 columns]"
      ]
     },
     "execution_count": 112,
     "metadata": {},
     "output_type": "execute_result"
    }
   ],
   "source": [
    "import pandas as pd\n",
    "df = pd.read_csv('spambase_data.csv',header =None)\n",
    "df.head() # used to display top 5 rows"
   ]
  },
  {
   "cell_type": "markdown",
   "metadata": {},
   "source": [
    "### Train and Test Split"
   ]
  },
  {
   "cell_type": "code",
   "execution_count": 113,
   "metadata": {},
   "outputs": [],
   "source": [
    "X = df[df.columns[:-1]] # Selecting the independent variables\n",
    "Y=df[df.columns[len(df.columns)-1]] # selecting only the target lableled column"
   ]
  },
  {
   "cell_type": "markdown",
   "metadata": {},
   "source": [
    "#### Obtain X_train, X_test, Y_train, Y_test by splitting the dataset into 70-30 ratio with a random state value 30.\n",
    "\n",
    "Note: random_state is used to control the shuffling in the split of the dataset.\n",
    "\n",
    "This method is called the Hold Out Method."
   ]
  },
  {
   "cell_type": "code",
   "execution_count": 114,
   "metadata": {},
   "outputs": [],
   "source": [
    "from sklearn.model_selection import train_test_split\n",
    "X_train, X_test, Y_train, Y_test = train_test_split(X, Y, test_size=0.30, random_state = 30)"
   ]
  },
  {
   "cell_type": "markdown",
   "metadata": {},
   "source": [
    "### Import the k-NN Classifier library"
   ]
  },
  {
   "cell_type": "code",
   "execution_count": 115,
   "metadata": {},
   "outputs": [],
   "source": [
    "from sklearn.neighbors import KNeighborsClassifier"
   ]
  },
  {
   "cell_type": "markdown",
   "metadata": {},
   "source": [
    "### Train 3-NN by using euclidean distance as distance measure"
   ]
  },
  {
   "cell_type": "code",
   "execution_count": 116,
   "metadata": {},
   "outputs": [
    {
     "data": {
      "text/plain": [
       "KNeighborsClassifier(metric='euclidean', n_neighbors=3)"
      ]
     },
     "execution_count": 116,
     "metadata": {},
     "output_type": "execute_result"
    }
   ],
   "source": [
    "knn=KNeighborsClassifier(n_neighbors=3, metric='euclidean')\n",
    "knn.fit(X_train, Y_train)"
   ]
  },
  {
   "cell_type": "markdown",
   "metadata": {},
   "source": [
    "### Prediction and Evaluation"
   ]
  },
  {
   "cell_type": "code",
   "execution_count": 117,
   "metadata": {},
   "outputs": [],
   "source": [
    "from sklearn.metrics import classification_report,confusion_matrix\n",
    "from sklearn.metrics import accuracy_score"
   ]
  },
  {
   "cell_type": "code",
   "execution_count": 118,
   "metadata": {},
   "outputs": [],
   "source": [
    "predictions = knn.predict(X_test)"
   ]
  },
  {
   "cell_type": "code",
   "execution_count": 119,
   "metadata": {},
   "outputs": [
    {
     "name": "stdout",
     "output_type": "stream",
     "text": [
      "              precision    recall  f1-score   support\n",
      "\n",
      "           0       0.83      0.85      0.84       863\n",
      "           1       0.74      0.72      0.73       518\n",
      "\n",
      "    accuracy                           0.80      1381\n",
      "   macro avg       0.79      0.78      0.78      1381\n",
      "weighted avg       0.80      0.80      0.80      1381\n",
      "\n",
      "Confusion Matrix\n",
      "[[730 133]\n",
      " [145 373]]\n",
      "\n",
      " Accuracy\n",
      "0.7986965966690803\n"
     ]
    }
   ],
   "source": [
    "print(classification_report(Y_test,predictions))\n",
    "print(\"Confusion Matrix\")\n",
    "print(confusion_matrix(Y_test,predictions))\n",
    "print(\"\\n Accuracy\")\n",
    "print(accuracy_score(Y_test,predictions))"
   ]
  },
  {
   "cell_type": "markdown",
   "metadata": {},
   "source": [
    "###  k (5)- fold method for training and testing split and check the difference in performance of 3-NN "
   ]
  },
  {
   "cell_type": "code",
   "execution_count": 120,
   "metadata": {},
   "outputs": [
    {
     "name": "stdout",
     "output_type": "stream",
     "text": [
      "scores:  [0.77090119 0.78586957 0.825      0.80543478 0.69456522]\n",
      "mean score:  0.7763541519142709\n"
     ]
    }
   ],
   "source": [
    "from sklearn.model_selection import cross_val_score\n",
    "knn_cv = KNeighborsClassifier(n_neighbors=3, metric = 'euclidean')\n",
    "scores = cross_val_score(knn_cv, X, Y, cv=5, scoring='accuracy')\n",
    "print('scores: ', scores)\n",
    "print('mean score: ', scores.mean())"
   ]
  },
  {
   "cell_type": "markdown",
   "metadata": {},
   "source": [
    "#### Q1: Normalize the dataset and apply 3-NN using both euclidean and manhattan distance"
   ]
  },
  {
   "cell_type": "code",
   "execution_count": 121,
   "metadata": {},
   "outputs": [],
   "source": [
    "from sklearn.preprocessing import MinMaxScaler\n",
    "X = df[df.columns[:-1]] # Selecting the independent variables\n",
    "Y=df[df.columns[len(df.columns)-1]] # selecting only the target lableled column\n",
    "X_trans = MinMaxScaler().fit_transform(X)"
   ]
  },
  {
   "cell_type": "code",
   "execution_count": 122,
   "metadata": {},
   "outputs": [
    {
     "name": "stdout",
     "output_type": "stream",
     "text": [
      "scores:  [0.8534202  0.88695652 0.90652174 0.90434783 0.73913043]\n",
      "mean score:  0.8580753434357741\n"
     ]
    }
   ],
   "source": [
    "knn_cv_euc = KNeighborsClassifier(n_neighbors=3, metric = 'euclidean')\n",
    "scores = cross_val_score(knn_cv_euc, X_trans, Y, cv=5, scoring='accuracy')\n",
    "print('scores: ', scores)\n",
    "print('mean score: ', scores.mean())"
   ]
  },
  {
   "cell_type": "code",
   "execution_count": 123,
   "metadata": {},
   "outputs": [
    {
     "name": "stdout",
     "output_type": "stream",
     "text": [
      "scores:  [0.86536374 0.90434783 0.90978261 0.89456522 0.75      ]\n",
      "mean score:  0.8648118774488976\n"
     ]
    }
   ],
   "source": [
    "knn_cv_man = KNeighborsClassifier(n_neighbors=3, metric = 'manhattan')\n",
    "scores = cross_val_score(knn_cv_man, X_trans, Y, cv=5, scoring='accuracy')\n",
    "print('scores: ', scores)\n",
    "print('mean score: ', scores.mean())"
   ]
  },
  {
   "cell_type": "markdown",
   "metadata": {},
   "source": [
    "#### Q2: Write your observation regarding change in the perfromance of KNN"
   ]
  },
  {
   "cell_type": "code",
   "execution_count": 124,
   "metadata": {},
   "outputs": [],
   "source": [
    "#Accuracy has significantly increased when we use a normalised dataset for same K values"
   ]
  },
  {
   "cell_type": "markdown",
   "metadata": {},
   "source": [
    "#### Q3: Find the accuracy of 1-NN model (using euclidean distance)"
   ]
  },
  {
   "cell_type": "code",
   "execution_count": 125,
   "metadata": {},
   "outputs": [
    {
     "name": "stdout",
     "output_type": "stream",
     "text": [
      "scores:  [0.86536374 0.8923913  0.91304348 0.90652174 0.75108696]\n",
      "mean score:  0.8656814426662891\n"
     ]
    }
   ],
   "source": [
    "#### Code here ####\n",
    "knn_cv = KNeighborsClassifier(n_neighbors=1, metric = 'euclidean')\n",
    "scores = cross_val_score(knn_cv, X_trans, Y, cv=5, scoring='accuracy')\n",
    "print('scores: ', scores)\n",
    "print('mean score: ', scores.mean())\n",
    "\n",
    "\n"
   ]
  },
  {
   "cell_type": "markdown",
   "metadata": {},
   "source": [
    "#### Q4: Find the accuracy of the models by taking k from 1 to 20. (Using euclidean distance and k(5)-fold method for train-test split)"
   ]
  },
  {
   "cell_type": "code",
   "execution_count": 126,
   "metadata": {},
   "outputs": [
    {
     "name": "stdout",
     "output_type": "stream",
     "text": [
      "Accuracy score for k : 1  0.8656814426662891\n",
      "Accuracy score for k : 2  0.8624255299060568\n",
      "Accuracy score for k : 3  0.8580753434357741\n",
      "Accuracy score for k : 4  0.8635103620828023\n",
      "Accuracy score for k : 5  0.8645944861445498\n",
      "Accuracy score for k : 6  0.8615550205353351\n",
      "Accuracy score for k : 7  0.8663345607326631\n",
      "Accuracy score for k : 8  0.8635096539678043\n",
      "Accuracy score for k : 9  0.8643792191851958\n",
      "Accuracy score for k : 10  0.8639451446914979\n",
      "Accuracy score for k : 11  0.8637270452721522\n",
      "Accuracy score for k : 12  0.8619905112590285\n",
      "Accuracy score for k : 13  0.8611204739649718\n",
      "Accuracy score for k : 14  0.8606845111646132\n",
      "Accuracy score for k : 15  0.8589467969598262\n",
      "Accuracy score for k : 16  0.8548170702922155\n",
      "Accuracy score for k : 17  0.8550337534815654\n",
      "Accuracy score for k : 18  0.8546003871028655\n",
      "Accuracy score for k : 19  0.8567724118396829\n",
      "Accuracy score for k : 20  0.8524262380210545\n"
     ]
    }
   ],
   "source": [
    "lis = []\n",
    "for k in range(1,21):\n",
    "    knn_cv = KNeighborsClassifier(n_neighbors=k, metric = 'euclidean')\n",
    "    scores = cross_val_score(knn_cv, X_trans, Y, cv=5, scoring='accuracy')\n",
    "    print(\"Accuracy score for k : \" +str(k) + \" \", scores.mean())\n",
    "    lis.append(scores.mean());"
   ]
  },
  {
   "cell_type": "markdown",
   "metadata": {},
   "source": [
    "#### Q5: Plot the graph between k and the accuracy score and find the best value of k"
   ]
  },
  {
   "cell_type": "code",
   "execution_count": 127,
   "metadata": {},
   "outputs": [
    {
     "data": {
      "text/plain": [
       "<matplotlib.axes._subplots.AxesSubplot at 0x1bae3048c50>"
      ]
     },
     "execution_count": 127,
     "metadata": {},
     "output_type": "execute_result"
    },
    {
     "data": {
      "image/png": "[encoded data removed]",
      "text/plain": [
       "<Figure size 432x288 with 1 Axes>"
      ]
     },
     "metadata": {
      "needs_background": "light"
     },
     "output_type": "display_data"
    }
   ],
   "source": [
    "import matplotlib.pyplot as plt\n",
    "import seaborn as sns\n",
    "lis1 = []\n",
    "for k in range(1, 21):\n",
    "    lis1.append(k)\n",
    "sns.lineplot(lis1 , lis)"
   ]
  },
  {
   "cell_type": "markdown",
   "metadata": {},
   "source": [
    "#### Q6: Find the accuracy of the models by taking k from 1 to 20. (Using manhattan distance  k(5)-fold method for train-test split)"
   ]
  },
  {
   "cell_type": "code",
   "execution_count": 128,
   "metadata": {},
   "outputs": [
    {
     "name": "stdout",
     "output_type": "stream",
     "text": [
      "Accuracy score for k : 1  0.8652459519425955\n",
      "Accuracy score for k : 2  0.8659021385072936\n",
      "Accuracy score for k : 3  0.8648118774488976\n",
      "Accuracy score for k : 4  0.8665519520370107\n",
      "Accuracy score for k : 5  0.8724191568710757\n",
      "Accuracy score for k : 6  0.8698142378322238\n",
      "Accuracy score for k : 7  0.8737244488504933\n",
      "Accuracy score for k : 8  0.8709011943539631\n",
      "Accuracy score for k : 9  0.8769862625690413\n",
      "Accuracy score for k : 10  0.8724217532927347\n",
      "Accuracy score for k : 11  0.8767683991880281\n",
      "Accuracy score for k : 12  0.8695973186045414\n",
      "Accuracy score for k : 13  0.8754647594769391\n",
      "Accuracy score for k : 14  0.8685105981211348\n",
      "Accuracy score for k : 15  0.8717700514563566\n",
      "Accuracy score for k : 16  0.8680769957041023\n",
      "Accuracy score for k : 17  0.873509890006137\n",
      "Accuracy score for k : 18  0.8667712316480196\n",
      "Accuracy score for k : 19  0.871335268847661\n",
      "Accuracy score for k : 20  0.8650330453665676\n"
     ]
    }
   ],
   "source": [
    "lis = []\n",
    "for k in range(1,21):\n",
    "    knn_cv = KNeighborsClassifier(n_neighbors=k, metric = 'manhattan')\n",
    "    scores = cross_val_score(knn_cv, X_trans, Y, cv=5, scoring='accuracy')\n",
    "    print(\"Accuracy score for k : \" +str(k) + \" \", scores.mean())\n",
    "    lis.append(scores.mean());"
   ]
  },
  {
   "cell_type": "markdown",
   "metadata": {},
   "source": [
    "#### Q7:  Plot the graph between k and the accuracy score and find the best value of k"
   ]
  },
  {
   "cell_type": "code",
   "execution_count": 129,
   "metadata": {},
   "outputs": [
    {
     "data": {
      "text/plain": [
       "<matplotlib.axes._subplots.AxesSubplot at 0x1bae1defb70>"
      ]
     },
     "execution_count": 129,
     "metadata": {},
     "output_type": "execute_result"
    },
    {
     "data": {
      "image/png": "[encoded data removed]",
      "text/plain": [
       "<Figure size 432x288 with 1 Axes>"
      ]
     },
     "metadata": {
      "needs_background": "light"
     },
     "output_type": "display_data"
    }
   ],
   "source": [
    "sns.lineplot(lis1 , lis)"
   ]
  },
  {
   "cell_type": "markdown",
   "metadata": {},
   "source": [
    "#### Q8: Write your observation"
   ]
  },
  {
   "cell_type": "code",
   "execution_count": 130,
   "metadata": {},
   "outputs": [],
   "source": [
    "#Best K value for Euclidean was 7 with accuracy of 0.8663345607326631\n",
    "#Best K value for Manhatan was 9 with accuracy of  0.8769862625690413\n",
    "# Best case  accuracy of Manhatan was better than euclidean"
   ]
  },
  {
   "cell_type": "markdown",
   "metadata": {},
   "source": [
    "#### Q9: Implement the weighted k-NN model. Use k(5)-fold method for train-test split"
   ]
  },
  {
   "cell_type": "code",
   "execution_count": 131,
   "metadata": {},
   "outputs": [
    {
     "name": "stdout",
     "output_type": "stream",
     "text": [
      "Accuracy score 0.863073455129113\n"
     ]
    }
   ],
   "source": [
    "#### Code here ###\n",
    "import numpy as np\n",
    "knn = KNeighborsClassifier(n_neighbors=3, metric = 'euclidean' , weights= 'distance') \n",
    "scores = cross_val_score(knn, X_trans, Y, cv=5, scoring='accuracy')\n",
    "print(\"Accuracy score\", scores.mean())"
   ]
  },
  {
   "cell_type": "markdown",
   "metadata": {},
   "source": [
    "#### Q10: What is the best k value in this model. Take max k =20"
   ]
  },
  {
   "cell_type": "code",
   "execution_count": 132,
   "metadata": {},
   "outputs": [
    {
     "name": "stdout",
     "output_type": "stream",
     "text": [
      "Accuracy score for k : 1  0.8656814426662891\n",
      "Accuracy score for k : 2  0.8658988339706368\n",
      "Accuracy score for k : 3  0.863073455129113\n",
      "Accuracy score for k : 4  0.8693775669168673\n",
      "Accuracy score for k : 5  0.8719834301090497\n",
      "Accuracy score for k : 6  0.8761131567766606\n",
      "Accuracy score for k : 7  0.8774184487560779\n",
      "Accuracy score for k : 8  0.8745935419912195\n",
      "Accuracy score for k : 9  0.8754626351319456\n",
      "Accuracy score for k : 10  0.8743763867252042\n",
      "Accuracy score for k : 11  0.8739413680781759\n",
      "Accuracy score for k : 12  0.8743775669168674\n",
      "Accuracy score for k : 13  0.8737251569654912\n",
      "Accuracy score for k : 14  0.8758971817023085\n",
      "Accuracy score for k : 15  0.873507293584478\n",
      "Accuracy score for k : 16  0.8761155171599867\n",
      "Accuracy score for k : 17  0.8732903743567956\n",
      "Accuracy score for k : 18  0.8772027097200585\n",
      "Accuracy score for k : 19  0.8776363121370911\n",
      "Accuracy score for k : 20  0.8774189208327432\n"
     ]
    }
   ],
   "source": [
    "#### Write your answer here ####\n",
    "for k in range(1,21):\n",
    "    knn_cv = KNeighborsClassifier(n_neighbors=k, metric = 'euclidean', weights= 'distance')\n",
    "    scores = cross_val_score(knn_cv, X_trans, Y, cv=5, scoring='accuracy')\n",
    "    print(\"Accuracy score for k : \" +str(k) + \" \", scores.mean())\n",
    "    lis.append(scores.mean());"
   ]
  },
  {
   "cell_type": "code",
   "execution_count": 133,
   "metadata": {},
   "outputs": [],
   "source": [
    "#Best value of K is 19"
   ]
  },
  {
   "cell_type": "code",
   "execution_count": null,
   "metadata": {},
   "outputs": [],
   "source": []
  }
 ],
 "metadata": {
  "kernelspec": {
   "display_name": "Python 3",
   "language": "python",
   "name": "python3"
  },
  "language_info": {
   "codemirror_mode": {
    "name": "ipython",
    "version": 3
   },
   "file_extension": ".py",
   "mimetype": "text/x-python",
   "name": "python",
   "nbconvert_exporter": "python",
   "pygments_lexer": "ipython3",
   "version": "3.7.3"
  }
 },
 "nbformat": 4,
 "nbformat_minor": 2
}
